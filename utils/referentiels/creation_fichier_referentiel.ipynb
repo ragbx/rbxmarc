{
 "cells": [
  {
   "cell_type": "code",
   "execution_count": 14,
   "id": "c3ef67b1-e8e1-4c87-a600-6ac6e96261e2",
   "metadata": {},
   "outputs": [],
   "source": [
    "import pandas as pd"
   ]
  },
  {
   "cell_type": "markdown",
   "id": "f82c252d-18f4-4e8a-890f-b5468565f610",
   "metadata": {},
   "source": [
    "On procède en deux étapes :\n",
    "- on part du fichier des valeurs autorisées Koha\n",
    "- on le fusionne avec un fichier de base (codes label notamment)"
   ]
  },
  {
   "cell_type": "code",
   "execution_count": 15,
   "id": "420a72c1-3856-4620-92d7-2ac141a8b8c5",
   "metadata": {},
   "outputs": [],
   "source": [
    "referentiels = pd.read_csv(\"referentiels_base.csv\")"
   ]
  },
  {
   "cell_type": "code",
   "execution_count": 16,
   "id": "1428a538-719d-45ed-855f-5487a21240b0",
   "metadata": {},
   "outputs": [],
   "source": [
    "koha_av = pd.read_csv(\"koha_av.csv\")\n",
    "koha_av = koha_av[['category', 'authorised_value', 'lib']]\n",
    "koha_av['category'] = koha_av['category'].str.lower()\n",
    "koha_av['category'] = \"koha_av_\" + koha_av['category']\n",
    "koha_av.columns = ['referentiel', 'cle', 'valeur']"
   ]
  },
  {
   "cell_type": "code",
   "execution_count": 17,
   "id": "852cf732-8154-43ae-b7c5-74a9dfa2d09e",
   "metadata": {},
   "outputs": [],
   "source": [
    "referentiels = pd.concat([referentiels, koha_av])"
   ]
  },
  {
   "cell_type": "code",
   "execution_count": 18,
   "id": "766853fd-8e3e-46b1-bc0f-62bd7ae2036e",
   "metadata": {},
   "outputs": [],
   "source": [
    "referentiels.to_csv(\"../referentiels.csv\", index=False)"
   ]
  },
  {
   "cell_type": "code",
   "execution_count": 19,
   "id": "80eb7eab-e5a8-4025-96d0-1a20fb48cb5d",
   "metadata": {},
   "outputs": [
    {
     "data": {
      "text/plain": [
       "referentiel\n",
       "koha_av_lang                           257\n",
       "koha_av_country                        249\n",
       "koha_av_malle                          216\n",
       "koha_av_collection                     151\n",
       "koha_av_qualif                         134\n",
       "koha_av_unimarc_183a                   109\n",
       "koha_av_183a                           109\n",
       "koha_av_loc                             31\n",
       "koha_av_unimarc_182c                    24\n",
       "koha_av_unimarc_181c                    24\n",
       "koha_av_181c                            24\n",
       "koha_av_typedoc                         19\n",
       "koha_av_bus                             17\n",
       "type_notice_codes                       13\n",
       "koha_av_acq_attr2                       13\n",
       "koha_av_report_group                    12\n",
       "koha_av_181a                            11\n",
       "koha_av_sip_media_type                  11\n",
       "koha_av_class_romans                    11\n",
       "koha_av_182a                            10\n",
       "koha_av_suggest_format                  10\n",
       "koha_av_suggest                         10\n",
       "koha_av_unimarc_182a                    10\n",
       "koha_av_report_subgroup                 10\n",
       "koha_av_pcs                             10\n",
       "koha_av_182c                             9\n",
       "koha_av_collect                          8\n",
       "koha_av_etat                             8\n",
       "agence_cat_codes                         8\n",
       "koha_av_roadtype                         7\n",
       "koha_av_146a                             7\n",
       "koha_av_payment_type                     6\n",
       "niveau_bib_codes                         5\n",
       "koha_av_alignement_bnf                   5\n",
       "koha_av_retirecoll                       4\n",
       "koha_av_order_cancellation_reason        3\n",
       "koha_av_lost                             3\n",
       "koha_av_aut_lien                         3\n",
       "koha_av_acq_attr                         3\n",
       "koha_av_restriction                      3\n",
       "koha_av_damaged                          3\n",
       "koha_av_action                           3\n",
       "koha_av_v091a                            3\n",
       "koha_av_ar_cancellation                  3\n",
       "koha_av_unimarc_systemes_indexation      2\n",
       "koha_av_v091c                            2\n",
       "koha_av_publicc                          2\n",
       "koha_av_return_claim_resolution          2\n",
       "koha_av_325h                             2\n",
       "koha_av_dons                             2\n",
       "koha_av_cand                             2\n",
       "koha_av_yes_no                           2\n",
       "koha_av_hsbnd_freq                       1\n",
       "koha_av_bor_notes                        1\n",
       "Name: count, dtype: int64"
      ]
     },
     "execution_count": 19,
     "metadata": {},
     "output_type": "execute_result"
    }
   ],
   "source": [
    "referentiels['referentiel'].value_counts()"
   ]
  }
 ],
 "metadata": {
  "kernelspec": {
   "display_name": "Python 3 (ipykernel)",
   "language": "python",
   "name": "python3"
  },
  "language_info": {
   "codemirror_mode": {
    "name": "ipython",
    "version": 3
   },
   "file_extension": ".py",
   "mimetype": "text/x-python",
   "name": "python",
   "nbconvert_exporter": "python",
   "pygments_lexer": "ipython3",
   "version": "3.11.9"
  }
 },
 "nbformat": 4,
 "nbformat_minor": 5
}
